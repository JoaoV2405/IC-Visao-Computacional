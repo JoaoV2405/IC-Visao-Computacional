{
  "cells": [
    {
      "cell_type": "markdown",
      "metadata": {
        "id": "view-in-github",
        "colab_type": "text"
      },
      "source": [
        "<a href=\"https://colab.research.google.com/github/JoaoV2405/IC-Visao-Computacional/blob/main/modelos/Modelo_PointNet%2B%2B.ipynb\" target=\"_parent\"><img src=\"https://colab.research.google.com/assets/colab-badge.svg\" alt=\"Open In Colab\"/></a>"
      ]
    },
    {
      "cell_type": "code",
      "execution_count": null,
      "metadata": {
        "colab": {
          "base_uri": "https://localhost:8080/"
        },
        "id": "BRB4tERTnSIH",
        "outputId": "5a445980-882e-4761-f1d0-741812bdc90e"
      },
      "outputs": [
        {
          "name": "stdout",
          "output_type": "stream",
          "text": [
            "Mounted at /content/drive\n"
          ]
        }
      ],
      "source": [
        "from google.colab import drive\n",
        "drive.mount('/content/drive')"
      ]
    },
    {
      "cell_type": "code",
      "execution_count": null,
      "metadata": {
        "colab": {
          "background_save": true,
          "base_uri": "https://localhost:8080/"
        },
        "id": "QzeIR5WSt8aK",
        "outputId": "ae7a8345-e410-45e8-984d-4dab42333a3e"
      },
      "outputs": [
        {
          "name": "stdout",
          "output_type": "stream",
          "text": [
            "Collecting torch==2.1.0\n",
            "  Downloading torch-2.1.0-cp310-cp310-manylinux1_x86_64.whl.metadata (25 kB)\n",
            "Requirement already satisfied: filelock in /usr/local/lib/python3.10/dist-packages (from torch==2.1.0) (3.16.1)\n",
            "Requirement already satisfied: typing-extensions in /usr/local/lib/python3.10/dist-packages (from torch==2.1.0) (4.12.2)\n",
            "Requirement already satisfied: sympy in /usr/local/lib/python3.10/dist-packages (from torch==2.1.0) (1.13.1)\n",
            "Requirement already satisfied: networkx in /usr/local/lib/python3.10/dist-packages (from torch==2.1.0) (3.4.2)\n",
            "Requirement already satisfied: jinja2 in /usr/local/lib/python3.10/dist-packages (from torch==2.1.0) (3.1.4)\n",
            "Requirement already satisfied: fsspec in /usr/local/lib/python3.10/dist-packages (from torch==2.1.0) (2024.10.0)\n",
            "Collecting nvidia-cuda-nvrtc-cu12==12.1.105 (from torch==2.1.0)\n",
            "  Downloading nvidia_cuda_nvrtc_cu12-12.1.105-py3-none-manylinux1_x86_64.whl.metadata (1.5 kB)\n",
            "Collecting nvidia-cuda-runtime-cu12==12.1.105 (from torch==2.1.0)\n",
            "  Downloading nvidia_cuda_runtime_cu12-12.1.105-py3-none-manylinux1_x86_64.whl.metadata (1.5 kB)\n",
            "Collecting nvidia-cuda-cupti-cu12==12.1.105 (from torch==2.1.0)\n",
            "  Downloading nvidia_cuda_cupti_cu12-12.1.105-py3-none-manylinux1_x86_64.whl.metadata (1.6 kB)\n",
            "Collecting nvidia-cudnn-cu12==8.9.2.26 (from torch==2.1.0)\n",
            "  Downloading nvidia_cudnn_cu12-8.9.2.26-py3-none-manylinux1_x86_64.whl.metadata (1.6 kB)\n",
            "Collecting nvidia-cublas-cu12==12.1.3.1 (from torch==2.1.0)\n",
            "  Downloading nvidia_cublas_cu12-12.1.3.1-py3-none-manylinux1_x86_64.whl.metadata (1.5 kB)\n",
            "Collecting nvidia-cufft-cu12==11.0.2.54 (from torch==2.1.0)\n",
            "  Downloading nvidia_cufft_cu12-11.0.2.54-py3-none-manylinux1_x86_64.whl.metadata (1.5 kB)\n",
            "Collecting nvidia-curand-cu12==10.3.2.106 (from torch==2.1.0)\n",
            "  Downloading nvidia_curand_cu12-10.3.2.106-py3-none-manylinux1_x86_64.whl.metadata (1.5 kB)\n",
            "Collecting nvidia-cusolver-cu12==11.4.5.107 (from torch==2.1.0)\n",
            "  Downloading nvidia_cusolver_cu12-11.4.5.107-py3-none-manylinux1_x86_64.whl.metadata (1.6 kB)\n",
            "Collecting nvidia-cusparse-cu12==12.1.0.106 (from torch==2.1.0)\n",
            "  Downloading nvidia_cusparse_cu12-12.1.0.106-py3-none-manylinux1_x86_64.whl.metadata (1.6 kB)\n",
            "Collecting nvidia-nccl-cu12==2.18.1 (from torch==2.1.0)\n",
            "  Downloading nvidia_nccl_cu12-2.18.1-py3-none-manylinux1_x86_64.whl.metadata (1.8 kB)\n",
            "Collecting nvidia-nvtx-cu12==12.1.105 (from torch==2.1.0)\n",
            "  Downloading nvidia_nvtx_cu12-12.1.105-py3-none-manylinux1_x86_64.whl.metadata (1.7 kB)\n",
            "Collecting triton==2.1.0 (from torch==2.1.0)\n",
            "  Downloading triton-2.1.0-0-cp310-cp310-manylinux2014_x86_64.manylinux_2_17_x86_64.whl.metadata (1.3 kB)\n",
            "Requirement already satisfied: nvidia-nvjitlink-cu12 in /usr/local/lib/python3.10/dist-packages (from nvidia-cusolver-cu12==11.4.5.107->torch==2.1.0) (12.6.77)\n",
            "Requirement already satisfied: MarkupSafe>=2.0 in /usr/local/lib/python3.10/dist-packages (from jinja2->torch==2.1.0) (3.0.2)\n",
            "Requirement already satisfied: mpmath<1.4,>=1.1.0 in /usr/local/lib/python3.10/dist-packages (from sympy->torch==2.1.0) (1.3.0)\n",
            "Downloading torch-2.1.0-cp310-cp310-manylinux1_x86_64.whl (670.2 MB)\n",
            "\u001b[2K   \u001b[90m━━━━━━━━━━━━━━━━━━━━━━━━━━━━━━━━━━━━━━━━\u001b[0m \u001b[32m670.2/670.2 MB\u001b[0m \u001b[31m2.1 MB/s\u001b[0m eta \u001b[36m0:00:00\u001b[0m\n",
            "\u001b[?25hDownloading nvidia_cublas_cu12-12.1.3.1-py3-none-manylinux1_x86_64.whl (410.6 MB)\n",
            "\u001b[2K   \u001b[90m━━━━━━━━━━━━━━━━━━━━━━━━━━━━━━━━━━━━━━━━\u001b[0m \u001b[32m410.6/410.6 MB\u001b[0m \u001b[31m3.4 MB/s\u001b[0m eta \u001b[36m0:00:00\u001b[0m\n",
            "\u001b[?25hDownloading nvidia_cuda_cupti_cu12-12.1.105-py3-none-manylinux1_x86_64.whl (14.1 MB)\n",
            "\u001b[2K   \u001b[90m━━━━━━━━━━━━━━━━━━━━━━━━━━━━━━━━━━━━━━━━\u001b[0m \u001b[32m14.1/14.1 MB\u001b[0m \u001b[31m54.1 MB/s\u001b[0m eta \u001b[36m0:00:00\u001b[0m\n",
            "\u001b[?25hDownloading nvidia_cuda_nvrtc_cu12-12.1.105-py3-none-manylinux1_x86_64.whl (23.7 MB)\n",
            "\u001b[2K   \u001b[90m━━━━━━━━━━━━━━━━━━━━━━━━━━━━━━━━━━━━━━━━\u001b[0m \u001b[32m23.7/23.7 MB\u001b[0m \u001b[31m49.4 MB/s\u001b[0m eta \u001b[36m0:00:00\u001b[0m\n",
            "\u001b[?25hDownloading nvidia_cuda_runtime_cu12-12.1.105-py3-none-manylinux1_x86_64.whl (823 kB)\n",
            "\u001b[2K   \u001b[90m━━━━━━━━━━━━━━━━━━━━━━━━━━━━━━━━━━━━━━━━\u001b[0m \u001b[32m823.6/823.6 kB\u001b[0m \u001b[31m31.9 MB/s\u001b[0m eta \u001b[36m0:00:00\u001b[0m\n",
            "\u001b[?25hDownloading nvidia_cudnn_cu12-8.9.2.26-py3-none-manylinux1_x86_64.whl (731.7 MB)\n",
            "\u001b[2K   \u001b[90m━━━━━━━━━━━━━━━━━━━━━━━━━━━━━━━━━━━━━━━━\u001b[0m \u001b[32m731.7/731.7 MB\u001b[0m \u001b[31m2.6 MB/s\u001b[0m eta \u001b[36m0:00:00\u001b[0m\n",
            "\u001b[?25hDownloading nvidia_cufft_cu12-11.0.2.54-py3-none-manylinux1_x86_64.whl (121.6 MB)\n",
            "\u001b[2K   \u001b[90m━━━━━━━━━━━━━━━━━━━━━━━━━━━━━━━━━━━━━━━━\u001b[0m \u001b[32m121.6/121.6 MB\u001b[0m \u001b[31m7.5 MB/s\u001b[0m eta \u001b[36m0:00:00\u001b[0m\n",
            "\u001b[?25hDownloading nvidia_curand_cu12-10.3.2.106-py3-none-manylinux1_x86_64.whl (56.5 MB)\n",
            "\u001b[2K   \u001b[90m━━━━━━━━━━━━━━━━━━━━━━━━━━━━━━━━━━━━━━━━\u001b[0m \u001b[32m56.5/56.5 MB\u001b[0m \u001b[31m14.2 MB/s\u001b[0m eta \u001b[36m0:00:00\u001b[0m\n",
            "\u001b[?25hDownloading nvidia_cusolver_cu12-11.4.5.107-py3-none-manylinux1_x86_64.whl (124.2 MB)\n",
            "\u001b[2K   \u001b[90m━━━━━━━━━━━━━━━━━━━━━━━━━━━━━━━━━━━━━━━━\u001b[0m \u001b[32m124.2/124.2 MB\u001b[0m \u001b[31m7.3 MB/s\u001b[0m eta \u001b[36m0:00:00\u001b[0m\n",
            "\u001b[?25hDownloading nvidia_cusparse_cu12-12.1.0.106-py3-none-manylinux1_x86_64.whl (196.0 MB)\n",
            "\u001b[2K   \u001b[90m━━━━━━━━━━━━━━━━━━━━━━━━━━━━━━━━━━━━━━━━\u001b[0m \u001b[32m196.0/196.0 MB\u001b[0m \u001b[31m6.5 MB/s\u001b[0m eta \u001b[36m0:00:00\u001b[0m\n",
            "\u001b[?25hDownloading nvidia_nccl_cu12-2.18.1-py3-none-manylinux1_x86_64.whl (209.8 MB)\n",
            "\u001b[2K   \u001b[90m━━━━━━━━━━━━━━━━━━━━━━━━━━━━━━━━━━━━━━━━\u001b[0m \u001b[32m209.8/209.8 MB\u001b[0m \u001b[31m5.8 MB/s\u001b[0m eta \u001b[36m0:00:00\u001b[0m\n",
            "\u001b[?25hDownloading nvidia_nvtx_cu12-12.1.105-py3-none-manylinux1_x86_64.whl (99 kB)\n",
            "\u001b[2K   \u001b[90m━━━━━━━━━━━━━━━━━━━━━━━━━━━━━━━━━━━━━━━━\u001b[0m \u001b[32m99.1/99.1 kB\u001b[0m \u001b[31m6.5 MB/s\u001b[0m eta \u001b[36m0:00:00\u001b[0m\n",
            "\u001b[?25hDownloading triton-2.1.0-0-cp310-cp310-manylinux2014_x86_64.manylinux_2_17_x86_64.whl (89.2 MB)\n",
            "\u001b[2K   \u001b[90m━━━━━━━━━━━━━━━━━━━━━━━━━━━━━━━━━━━━━━━━\u001b[0m \u001b[32m89.2/89.2 MB\u001b[0m \u001b[31m7.8 MB/s\u001b[0m eta \u001b[36m0:00:00\u001b[0m\n",
            "\u001b[?25hInstalling collected packages: triton, nvidia-nvtx-cu12, nvidia-nccl-cu12, nvidia-cusparse-cu12, nvidia-curand-cu12, nvidia-cufft-cu12, nvidia-cuda-runtime-cu12, nvidia-cuda-nvrtc-cu12, nvidia-cuda-cupti-cu12, nvidia-cublas-cu12, nvidia-cusolver-cu12, nvidia-cudnn-cu12, torch\n",
            "  Attempting uninstall: nvidia-nccl-cu12\n",
            "    Found existing installation: nvidia-nccl-cu12 2.23.4\n",
            "    Uninstalling nvidia-nccl-cu12-2.23.4:\n",
            "      Successfully uninstalled nvidia-nccl-cu12-2.23.4\n",
            "  Attempting uninstall: nvidia-cusparse-cu12\n",
            "    Found existing installation: nvidia-cusparse-cu12 12.5.4.2\n",
            "    Uninstalling nvidia-cusparse-cu12-12.5.4.2:\n",
            "      Successfully uninstalled nvidia-cusparse-cu12-12.5.4.2\n",
            "  Attempting uninstall: nvidia-curand-cu12\n",
            "    Found existing installation: nvidia-curand-cu12 10.3.7.77\n",
            "    Uninstalling nvidia-curand-cu12-10.3.7.77:\n",
            "      Successfully uninstalled nvidia-curand-cu12-10.3.7.77\n",
            "  Attempting uninstall: nvidia-cufft-cu12\n",
            "    Found existing installation: nvidia-cufft-cu12 11.3.0.4\n",
            "    Uninstalling nvidia-cufft-cu12-11.3.0.4:\n",
            "      Successfully uninstalled nvidia-cufft-cu12-11.3.0.4\n",
            "  Attempting uninstall: nvidia-cuda-runtime-cu12\n",
            "    Found existing installation: nvidia-cuda-runtime-cu12 12.6.77\n",
            "    Uninstalling nvidia-cuda-runtime-cu12-12.6.77:\n",
            "      Successfully uninstalled nvidia-cuda-runtime-cu12-12.6.77\n",
            "  Attempting uninstall: nvidia-cuda-cupti-cu12\n",
            "    Found existing installation: nvidia-cuda-cupti-cu12 12.6.80\n",
            "    Uninstalling nvidia-cuda-cupti-cu12-12.6.80:\n",
            "      Successfully uninstalled nvidia-cuda-cupti-cu12-12.6.80\n",
            "  Attempting uninstall: nvidia-cublas-cu12\n",
            "    Found existing installation: nvidia-cublas-cu12 12.6.3.3\n",
            "    Uninstalling nvidia-cublas-cu12-12.6.3.3:\n",
            "      Successfully uninstalled nvidia-cublas-cu12-12.6.3.3\n",
            "  Attempting uninstall: nvidia-cusolver-cu12\n",
            "    Found existing installation: nvidia-cusolver-cu12 11.7.1.2\n",
            "    Uninstalling nvidia-cusolver-cu12-11.7.1.2:\n",
            "      Successfully uninstalled nvidia-cusolver-cu12-11.7.1.2\n",
            "  Attempting uninstall: nvidia-cudnn-cu12\n",
            "    Found existing installation: nvidia-cudnn-cu12 9.5.1.17\n",
            "    Uninstalling nvidia-cudnn-cu12-9.5.1.17:\n",
            "      Successfully uninstalled nvidia-cudnn-cu12-9.5.1.17\n",
            "  Attempting uninstall: torch\n",
            "    Found existing installation: torch 2.5.0+cu121\n",
            "    Uninstalling torch-2.5.0+cu121:\n",
            "      Successfully uninstalled torch-2.5.0+cu121\n",
            "\u001b[31mERROR: pip's dependency resolver does not currently take into account all the packages that are installed. This behaviour is the source of the following dependency conflicts.\n",
            "torchaudio 2.5.0+cu121 requires torch==2.5.0, but you have torch 2.1.0 which is incompatible.\n",
            "torchvision 0.20.0+cu121 requires torch==2.5.0, but you have torch 2.1.0 which is incompatible.\u001b[0m\u001b[31m\n",
            "\u001b[0mSuccessfully installed nvidia-cublas-cu12-12.1.3.1 nvidia-cuda-cupti-cu12-12.1.105 nvidia-cuda-nvrtc-cu12-12.1.105 nvidia-cuda-runtime-cu12-12.1.105 nvidia-cudnn-cu12-8.9.2.26 nvidia-cufft-cu12-11.0.2.54 nvidia-curand-cu12-10.3.2.106 nvidia-cusolver-cu12-11.4.5.107 nvidia-cusparse-cu12-12.1.0.106 nvidia-nccl-cu12-2.18.1 nvidia-nvtx-cu12-12.1.105 torch-2.1.0 triton-2.1.0\n"
          ]
        }
      ],
      "source": [
        "!pip install torch==2.1.0\n",
        "\n"
      ]
    },
    {
      "cell_type": "code",
      "execution_count": null,
      "metadata": {
        "colab": {
          "base_uri": "https://localhost:8080/"
        },
        "id": "fxsEpzXeKlYg",
        "outputId": "8430ebeb-1bd9-4ef3-e219-e0907772a983"
      },
      "outputs": [
        {
          "name": "stdout",
          "output_type": "stream",
          "text": [
            "2.1.0+cu121\n",
            "\u001b[2K     \u001b[90m━━━━━━━━━━━━━━━━━━━━━━━━━━━━━━━━━━━━━━━━\u001b[0m \u001b[32m10.8/10.8 MB\u001b[0m \u001b[31m21.9 MB/s\u001b[0m eta \u001b[36m0:00:00\u001b[0m\n",
            "\u001b[2K     \u001b[90m━━━━━━━━━━━━━━━━━━━━━━━━━━━━━━━━━━━━━━━━\u001b[0m \u001b[32m5.0/5.0 MB\u001b[0m \u001b[31m17.1 MB/s\u001b[0m eta \u001b[36m0:00:00\u001b[0m\n",
            "\u001b[2K     \u001b[90m━━━━━━━━━━━━━━━━━━━━━━━━━━━━━━━━━━━━━━━━\u001b[0m \u001b[32m3.3/3.3 MB\u001b[0m \u001b[31m13.7 MB/s\u001b[0m eta \u001b[36m0:00:00\u001b[0m\n",
            "\u001b[?25h  Installing build dependencies ... \u001b[?25l\u001b[?25hdone\n",
            "  Getting requirements to build wheel ... \u001b[?25l\u001b[?25hdone\n",
            "  Preparing metadata (pyproject.toml) ... \u001b[?25l\u001b[?25hdone\n",
            "  Building wheel for torch-geometric (pyproject.toml) ... \u001b[?25l\u001b[?25hdone\n",
            "Collecting openmesh\n",
            "  Downloading openmesh-1.2.1.tar.gz (9.3 MB)\n",
            "\u001b[2K     \u001b[90m━━━━━━━━━━━━━━━━━━━━━━━━━━━━━━━━━━━━━━━━\u001b[0m \u001b[32m9.3/9.3 MB\u001b[0m \u001b[31m48.7 MB/s\u001b[0m eta \u001b[36m0:00:00\u001b[0m\n",
            "\u001b[?25h  Preparing metadata (setup.py) ... \u001b[?25l\u001b[?25hdone\n",
            "Requirement already satisfied: numpy in /usr/local/lib/python3.10/dist-packages (from openmesh) (1.26.4)\n",
            "Building wheels for collected packages: openmesh\n",
            "  Building wheel for openmesh (setup.py) ... \u001b[?25l\u001b[?25hdone\n",
            "  Created wheel for openmesh: filename=openmesh-1.2.1-cp310-cp310-linux_x86_64.whl size=855151 sha256=b1459f68419588c9bb564da49ff75d9f1ef06c98c228287ad62c288aea46e478\n",
            "  Stored in directory: /root/.cache/pip/wheels/05/52/ac/4cf307e2dac381ab093a0390901305aee1110ca733ebf55d55\n",
            "Successfully built openmesh\n",
            "Installing collected packages: openmesh\n",
            "Successfully installed openmesh-1.2.1\n",
            "Requirement already satisfied: numpy in /usr/local/lib/python3.10/dist-packages (1.26.4)\n"
          ]
        }
      ],
      "source": [
        "# Install required packages.\n",
        "import os\n",
        "import torch\n",
        "os.environ['TORCH'] = torch.__version__\n",
        "print(torch.__version__)\n",
        "\n",
        "!pip install -q torch-scatter -f https://data.pyg.org/whl/torch-${TORCH}.html\n",
        "!pip install -q torch-sparse -f https://data.pyg.org/whl/torch-${TORCH}.html\n",
        "!pip install -q torch-cluster -f https://data.pyg.org/whl/torch-${TORCH}.html\n",
        "\n",
        "!pip install -q git+https://github.com/pyg-team/pytorch_geometric.git\n",
        "!pip install openmesh\n",
        "import openmesh\n",
        "from torch_geometric.io import read_ply\n",
        "# Helper functions for visualization.\n",
        "%matplotlib inline\n",
        "import matplotlib.pyplot as plt\n",
        "from mpl_toolkits.mplot3d import Axes3D\n",
        "\n",
        "from torch_geometric.datasets import ModelNet\n",
        "from torch_geometric.transforms import SamplePoints\n",
        "\n",
        "# !pip install open3d\n",
        "!pip install numpy\n",
        "import numpy as np\n",
        "import torch\n",
        "import pandas as pd\n",
        "import os\n",
        "from torch_geometric.data import Data, Dataset\n"
      ]
    },
    {
      "cell_type": "code",
      "execution_count": null,
      "metadata": {
        "id": "mIxHQzHoHzpD"
      },
      "outputs": [],
      "source": [
        "def normalize_point_cloud(point_cloud):\n",
        "    # Centraliza os pontos\n",
        "    centroid = point_cloud.mean(axis=0)\n",
        "    point_cloud -= centroid\n",
        "\n",
        "    # Normaliza para a esfera unitária\n",
        "    max_distance = np.sqrt((point_cloud ** 2).sum(axis=1)).max()\n",
        "    point_cloud /= max_distance\n",
        "\n",
        "    return point_cloud"
      ]
    },
    {
      "cell_type": "code",
      "execution_count": null,
      "metadata": {
        "collapsed": true,
        "id": "rtFVgbP0kXos"
      },
      "outputs": [],
      "source": [
        "\n",
        "class EggShellDataset(Dataset):\n",
        "    def __init__(self, csv_file, root_dir, transform=None):\n",
        "        self.data_frame = pd.read_csv(csv_file)\n",
        "        self.root_dir = root_dir\n",
        "        self.transform = transform\n",
        "\n",
        "    def __len__(self):\n",
        "        return len(self.data_frame)\n",
        "\n",
        "    def __getitem__(self, idx):\n",
        "        if torch.is_tensor(idx):\n",
        "            idx = idx.tolist()\n",
        "\n",
        "        # Obtem o nome da nuvem de pontos na primeira coluna do arquivo csv\n",
        "        ply_name = self.data_frame.iloc[idx, 0]\n",
        "        ply_path = os.path.join(self.root_dir, ply_name)\n",
        "\n",
        "        # Carregar a nuvem de pontos do arquivo PLY\n",
        "        data = read_ply(ply_path)\n",
        "\n",
        "        # Obter restante das medidas nas demais colunas do csv\n",
        "        measurements = torch.tensor(self.data_frame.iloc[idx, 1:].values.astype('float'), dtype=torch.float)\n",
        "\n",
        "        # Criar o sample como um objeto do tipo Data\n",
        "        sample = Data(pos=data.pos, y=measurements.unsqueeze(0))\n",
        "\n",
        "        if self.transform:\n",
        "            sample = self.transform(sample)\n",
        "\n",
        "        return sample\n",
        "\n",
        "\n",
        "\n",
        "\n"
      ]
    },
    {
      "cell_type": "code",
      "execution_count": null,
      "metadata": {
        "id": "f8NnLKI9HkvA"
      },
      "outputs": [],
      "source": [
        "\n",
        "def visualize_points(pos, edge_index=None, index=None):\n",
        "    fig = plt.figure(figsize=(4, 4))\n",
        "    if edge_index is not None:\n",
        "        for (src, dst) in edge_index.t().tolist():\n",
        "             src = pos[src].tolist()\n",
        "             dst = pos[dst].tolist()\n",
        "             plt.plot([src[0], dst[0]], [src[1], dst[1]], linewidth=1, color='black')\n",
        "    if index is None:\n",
        "        plt.scatter(pos[:, 0], pos[:, 1], s=50, zorder=1000)\n",
        "    else:\n",
        "       mask = torch.zeros(pos.size(0), dtype=torch.bool)\n",
        "       mask[index] = True\n",
        "       plt.scatter(pos[~mask, 0], pos[~mask, 1], s=50, color='lightgray', zorder=1000)\n",
        "       plt.scatter(pos[mask, 0], pos[mask, 1], s=50, zorder=1000)\n",
        "    plt.axis('off')\n",
        "    plt.show()"
      ]
    },
    {
      "cell_type": "code",
      "execution_count": null,
      "metadata": {
        "id": "Jkc3FTHsyewt"
      },
      "outputs": [],
      "source": [
        "from torch_geometric.transforms import FixedPoints\n",
        "transform = FixedPoints(num=516)  # Adjust `num` based on your needs\n",
        "\n",
        "train_dataset = EggShellDataset(csv_file='/content/drive/MyDrive/Eggshell Dataset/train.csv', root_dir='/content/drive/MyDrive/Eggshell Dataset/ovos/', transform=transform)\n",
        "test_dataset = EggShellDataset(csv_file='/content/drive/MyDrive/Eggshell Dataset/test.csv', root_dir='/content/drive/MyDrive/Eggshell Dataset/ovos/', transform=transform)\n",
        "\n",
        "# sample = train_dataset[0]\n",
        "# print(sample)  # Verificar o formato da nuvem de pontos\n",
        "# visualize_points(sample.pos)\n"
      ]
    },
    {
      "cell_type": "code",
      "execution_count": null,
      "metadata": {
        "id": "OlLhXek9sxGK"
      },
      "outputs": [],
      "source": [
        "from torch_cluster import knn_graph\n",
        "\n",
        "# sample = train_dataset[0]\n",
        "# print(sample)\n",
        "# sample.edge_index = knn_graph(sample.pos, k=6)\n",
        "# print(sample.edge_index.shape)\n",
        "# visualize_points(sample.pos, edge_index=sample.edge_index)\n",
        "\n",
        "# sample = train_dataset[4]\n",
        "# sample.edge_index = knn_graph(sample.pos, k=6)\n",
        "# print(sample.edge_index.shape)\n",
        "# visualize_points(sample.pos, edge_index=sample.edge_index)\n",
        "\n",
        "\n",
        "# sample = train_dataset[8]\n",
        "# sample.edge_index = knn_graph(sample.pos, k=6)\n",
        "# print(sample.edge_index.shape)\n",
        "# visualize_points(sample.pos, edge_index=sample.edge_index)"
      ]
    },
    {
      "cell_type": "code",
      "execution_count": null,
      "metadata": {
        "id": "KQIlCYNBhOTz"
      },
      "outputs": [],
      "source": [
        "from torch.nn import Sequential, Linear, ReLU\n",
        "from torch_geometric.nn import MessagePassing\n",
        "\n",
        "\n",
        "class PointNetLayer(MessagePassing):\n",
        "    def __init__(self, in_channels, out_channels):\n",
        "        # Message passing with \"max\" aggregation.\n",
        "        super().__init__(aggr='max')\n",
        "\n",
        "        # Initialization of the MLP:\n",
        "        # Here, the number of input features correspond to the hidden node\n",
        "        # dimensionality plus point dimensionality (=3).\n",
        "        self.mlp = Sequential(Linear(in_channels + 3, out_channels),\n",
        "                              ReLU(),\n",
        "                              Linear(out_channels, out_channels))\n",
        "\n",
        "    def forward(self, h, pos, edge_index):\n",
        "        # Start propagating messages.\n",
        "        return self.propagate(edge_index, h=h, pos=pos)\n",
        "\n",
        "    def message(self, h_j, pos_j, pos_i):\n",
        "        # h_j defines the features of neighboring nodes as shape [num_edges, in_channels]\n",
        "        # pos_j defines the position of neighboring nodes as shape [num_edges, 3]\n",
        "        # pos_i defines the position of central nodes as shape [num_edges, 3]\n",
        "\n",
        "        input = pos_j - pos_i  # Compute spatial relation.\n",
        "\n",
        "        if h_j is not None:\n",
        "            # In the first layer, we may not have any hidden node features,\n",
        "            # so we only combine them in case they are present.\n",
        "            input = torch.cat([h_j, input], dim=-1)\n",
        "\n",
        "        return self.mlp(input)  # Apply our final MLP."
      ]
    },
    {
      "cell_type": "code",
      "execution_count": null,
      "metadata": {
        "colab": {
          "base_uri": "https://localhost:8080/"
        },
        "id": "O0e6vxTThXih",
        "outputId": "eeed94bf-2557-474b-dee6-d45fcb9b986c"
      },
      "outputs": [
        {
          "name": "stdout",
          "output_type": "stream",
          "text": [
            "PointNet(\n",
            "  (conv1): PointNetLayer()\n",
            "  (conv2): PointNetLayer()\n",
            "  (classifier): Linear(in_features=32, out_features=6, bias=True)\n",
            ")\n"
          ]
        }
      ],
      "source": [
        "import torch\n",
        "import torch.nn.functional as F\n",
        "from torch_cluster import knn_graph\n",
        "from torch_geometric.nn import global_max_pool, global_mean_pool\n",
        "\n",
        "\n",
        "class PointNet(torch.nn.Module):\n",
        "    def __init__(self):\n",
        "        super().__init__()\n",
        "\n",
        "        torch.manual_seed(12345)\n",
        "        self.conv1 = PointNetLayer(3, 32)\n",
        "        self.conv2 = PointNetLayer(32, 32)\n",
        "        self.classifier = Linear(32, 6)\n",
        "\n",
        "    def forward(self, pos, batch):\n",
        "        # Compute the kNN graph:\n",
        "        # Here, we need to pass the batch vector to the function call in order\n",
        "        # to prevent creating edges between points of different examples.\n",
        "        # We also add `loop=True` which will add self-loops to the graph in\n",
        "        # order to preserve central point information.\n",
        "        edge_index = knn_graph(pos, k=16, batch=batch, loop=True)\n",
        "\n",
        "        # 3. Start bipartite message passing.\n",
        "        h = self.conv1(h=pos, pos=pos, edge_index=edge_index)\n",
        "        h = h.relu()\n",
        "        h = self.conv2(h=h, pos=pos, edge_index=edge_index)\n",
        "        h = h.relu()\n",
        "\n",
        "        # 4. Global Pooling.\n",
        "        h_max = global_max_pool(h, batch)  # [num_examples, hidden_channels]\n",
        "        h_mean = global_mean_pool(h, batch)\n",
        "        h = h_max + h_mean\n",
        "        # 5. Classifier.\n",
        "        return self.classifier(h)\n",
        "\n",
        "\n",
        "model = PointNet()\n",
        "print(model)"
      ]
    },
    {
      "cell_type": "code",
      "execution_count": null,
      "metadata": {
        "colab": {
          "base_uri": "https://localhost:8080/",
          "height": 17
        },
        "id": "6rs3Vr3I6tij",
        "outputId": "56bff77e-544c-404c-fe00-cc592386ef39"
      },
      "outputs": [
        {
          "data": {
            "application/javascript": [
              "google.colab.output.setIframeHeight(0, true, {maxHeight: 300})"
            ],
            "text/plain": [
              "<IPython.core.display.Javascript object>"
            ]
          },
          "metadata": {},
          "output_type": "display_data"
        }
      ],
      "source": [
        "from IPython.display import Javascript  # Restrict height of output cell.\n",
        "display(Javascript('''google.colab.output.setIframeHeight(0, true, {maxHeight: 300})'''))\n",
        "\n",
        "from torch_geometric.loader import DataLoader\n",
        "train_dataset = EggShellDataset(csv_file='/content/drive/MyDrive/Eggshell Dataset/train.csv', root_dir='/content/drive/MyDrive/Eggshell Dataset/ovos/', transform=transform)\n",
        "test_dataset = EggShellDataset(csv_file='/content/drive/MyDrive/Eggshell Dataset/test.csv', root_dir='/content/drive/MyDrive/Eggshell Dataset/ovos/', transform=transform)\n",
        "\n",
        "\n",
        "train_loader = DataLoader(train_dataset, batch_size=10, shuffle=True)\n",
        "test_loader = DataLoader(test_dataset, batch_size=10)\n",
        "num_epochs = 20\n",
        "\n",
        "model = PointNet()\n",
        "optimizer = torch.optim.Adam(model.parameters(), lr=0.01)\n",
        "criterion = torch.nn.MSELoss()\n"
      ]
    },
    {
      "cell_type": "code",
      "execution_count": null,
      "metadata": {
        "id": "2ZfOzKysl3U5"
      },
      "outputs": [],
      "source": [
        "# @title Função de treino e teste {\"display-mode\":\"code\"}\n",
        "\n",
        "def train(model, optimizer, loader):\n",
        "    model.train()\n",
        "    train_losses = [] # tirar\n",
        "\n",
        "    total_loss = 0\n",
        "    for data in loader:\n",
        "        optimizer.zero_grad()  # Clear gradients.\n",
        "        logits = model(data.pos, data.batch)  # Forward pass.\n",
        "        loss = criterion(logits, data.y)  # Loss computation.\n",
        "        loss.backward()  # Backward pass.\n",
        "        optimizer.step()  # Update model parameters.\n",
        "\n",
        "        total_loss += loss.item() * data.num_graphs\n",
        "\n",
        "    return total_loss / len(loader.dataset)\n",
        "\n",
        "\n",
        "@torch.no_grad()\n",
        "def test(model, loader):\n",
        "    model.eval()\n",
        "    total_loss = 0\n",
        "    for data in loader:\n",
        "        predictions = model(data.pos, data.batch)\n",
        "        loss = criterion(predictions, data.y)\n",
        "        total_loss += loss.item() * data.num_graphs\n",
        "\n",
        "    return total_loss / len(loader.dataset)\n",
        "\n",
        "# for epoch in range(15):\n",
        "#     train_loss = train(model, optimizer, train_loader)\n",
        "#     train_losses.append(train_loss)\n",
        "\n",
        "#     print(f'Epoch: {epoch:02d}, Train Loss: {train_loss:.4f}')\n",
        "# for epoch in range(1, 51):\n",
        "#     loss = train(model, optimizer, train_loader)\n",
        "#     test_loss = test(model, test_loader)\n",
        "#     print(f'Epoch: {epoch:02d}, Loss: {loss:.4f}, Test Loss: {test_loss:.4f}')"
      ]
    },
    {
      "cell_type": "code",
      "execution_count": null,
      "metadata": {
        "colab": {
          "base_uri": "https://localhost:8080/"
        },
        "id": "yTFjkMIaIBvb",
        "outputId": "f0a18eb6-5669-4a36-c440-a6990351806d"
      },
      "outputs": [
        {
          "name": "stdout",
          "output_type": "stream",
          "text": [
            "Epoch [1/20], Loss: 1279.6339817520015\n",
            "Epoch [2/20], Loss: 383.65393848261556\n",
            "Epoch [3/20], Loss: 47.16579840005922\n",
            "Epoch [4/20], Loss: 21.333858852544108\n",
            "Epoch [5/20], Loss: 5.325393193024249\n",
            "Epoch [6/20], Loss: 3.14489595678227\n",
            "Epoch [7/20], Loss: 2.874724007835073\n",
            "Epoch [8/20], Loss: 2.699237057985353\n",
            "Epoch [9/20], Loss: 2.986276281766655\n",
            "Epoch [10/20], Loss: 2.833269925156901\n",
            "Epoch [11/20], Loss: 2.726957361067622\n",
            "Epoch [12/20], Loss: 2.6391125237646182\n",
            "Epoch [13/20], Loss: 2.609050790633052\n",
            "Epoch [14/20], Loss: 2.5993189772298515\n",
            "Epoch [15/20], Loss: 2.805965533926467\n",
            "Epoch [16/20], Loss: 2.6143153881238512\n",
            "Epoch [17/20], Loss: 2.5254899755982327\n",
            "Epoch [18/20], Loss: 2.6567321946798277\n",
            "Epoch [19/20], Loss: 2.6824255472372385\n",
            "Epoch [20/20], Loss: 2.599945910706008\n"
          ]
        }
      ],
      "source": [
        "# Train Loop\n",
        "train_losses = []\n",
        "y_true_list = []\n",
        "y_pred_list = []\n",
        "for epoch in range(num_epochs):\n",
        "  model.train()\n",
        "  running_loss = 0.0\n",
        "\n",
        "  for batch in train_loader:\n",
        "    optimizer.zero_grad()\n",
        "    outputs = model(batch.pos, batch.batch)\n",
        "    loss = criterion(outputs, batch.y)\n",
        "    loss.backward()\n",
        "    optimizer.step()\n",
        "    running_loss += loss.item() * batch.num_graphs\n",
        "\n",
        "  total_loss = running_loss / len(train_loader.dataset)\n",
        "  train_losses.append(total_loss)\n",
        "  print(f'Epoch [{epoch+1}/{num_epochs}], Loss: {total_loss}')\n",
        "\n",
        "  model.eval()\n",
        "  with torch.no_grad():\n",
        "    for batch in test_loader:\n",
        "      outputs = model(batch.pos, batch.batch)\n",
        "      y_true_list.append(batch.y.cpu())\n",
        "      y_pred_list.append(outputs.cpu())\n",
        "\n",
        "# Concatene as listas para criar tensores únicos\n",
        "y_true = torch.cat(y_true_list, dim=0)\n",
        "y_pred = torch.cat(y_pred_list, dim=0)\n",
        "\n",
        "\n"
      ]
    },
    {
      "cell_type": "code",
      "execution_count": null,
      "metadata": {
        "colab": {
          "base_uri": "https://localhost:8080/"
        },
        "id": "kNZ42cFzdhO-",
        "outputId": "ef149c49-1cbb-4432-cc1b-921c2943b24e"
      },
      "outputs": [
        {
          "name": "stdout",
          "output_type": "stream",
          "text": [
            "tensor([58.5700, 44.9000,  0.0000, 29.2800, 14.6400, 40.5000])\n",
            "tensor([ 8.7376,  8.2443, -2.4704,  7.0361,  6.2642,  5.7526])\n"
          ]
        }
      ],
      "source": [
        "print(y_true[0])\n",
        "print(y_pred[0])"
      ]
    },
    {
      "cell_type": "code",
      "execution_count": null,
      "metadata": {
        "colab": {
          "base_uri": "https://localhost:8080/",
          "height": 507
        },
        "id": "xK73AR-faH6m",
        "outputId": "e107c21f-7f05-45b6-db32-738a12565bd8"
      },
      "outputs": [
        {
          "data": {
            "image/png": "[encoded data removed]",
            "text/plain": [
              "<Figure size 1000x500 with 2 Axes>"
            ]
          },
          "metadata": {},
          "output_type": "display_data"
        }
      ],
      "source": [
        "import matplotlib.pyplot as plt\n",
        "\n",
        "# Função para plotar o gráfico de dispersão e o histograma de erro\n",
        "def plot_predictions_vs_actuals(y_true, y_pred):\n",
        "    # Gráfico de dispersão\n",
        "    plt.figure(figsize=(10, 5))\n",
        "    plt.subplot(1, 2, 1)\n",
        "    plt.scatter(y_true, y_pred, alpha=0.5)\n",
        "    plt.plot([y_true.min(), y_true.max()], [y_true.min(), y_true.max()], 'r--', linewidth=2)\n",
        "    plt.xlabel('Valores Reais')\n",
        "    plt.ylabel('Valores Previstos')\n",
        "    plt.title('Gráfico de Dispersão: Previstos vs Reais')\n",
        "\n",
        "    # Histograma de erro\n",
        "    erros = y_true - y_pred\n",
        "    plt.subplot(1, 2, 2)\n",
        "    plt.hist(erros, bins=20, edgecolor='black')\n",
        "    plt.xlabel('Erro (Valor Real - Valor Previsto)')\n",
        "    plt.ylabel('Frequência')\n",
        "    plt.title('Histograma de Erro')\n",
        "\n",
        "    plt.tight_layout()\n",
        "    plt.show()\n",
        "\n",
        "\n",
        "\n",
        "# Converta os tensores para numpy para plotagem\n",
        "y_true_np = y_true.detach().cpu().numpy()\n",
        "y_pred_np = y_pred.detach().cpu().numpy()\n",
        "\n",
        "plot_predictions_vs_actuals(y_true_np, y_pred_np)\n"
      ]
    },
    {
      "cell_type": "code",
      "execution_count": null,
      "metadata": {
        "id": "FR_21ZCbQoFu"
      },
      "outputs": [],
      "source": [
        "from sklearn.metrics import mean_squared_error\n",
        "\n",
        "test_losses = []\n",
        "for epoch in range(num_epochs):\n",
        "  model.eval()\n",
        "  running_loss = 0.0\n",
        "  with torch.no_grad():\n",
        "    for data in test_loader:\n",
        "      predictions = model(data.pos, data.batch)\n",
        "      loss = criterion(predictions, data.y)\n",
        "      running_loss += loss.item() * data.num_graphs\n",
        "    total_loss = running_loss / len(test_loader.dataset)\n",
        "    test_losses.append(total_loss)\n",
        "    print(f'Test Loss after Epoch: [{epoch+1}/{num_epochs}], Loss: {total_loss}')\n",
        "\n",
        "\n"
      ]
    },
    {
      "cell_type": "code",
      "execution_count": null,
      "metadata": {
        "id": "AG8R6Jvf-Mvo"
      },
      "outputs": [],
      "source": [
        "\n",
        "import matplotlib.pyplot as plt\n",
        "\n",
        "epochs = np.arange(1, num_epochs + 1)\n",
        "\n",
        "plt.figure(figsize=(10, 5))\n",
        "\n",
        "plt.subplot(1, 2, 1)\n",
        "plt.plot(epochs, train_losses, label = \"train loss\")\n",
        "plt.xlabel(\"Epochs\")\n",
        "plt.ylabel('Loss')\n",
        "plt.legend()\n",
        "\n",
        "plt.subplot(1, 2, 2)\n",
        "plt.plot(epochs, test_losses, label = \"test loss\")\n",
        "plt.xlabel(\"Epochs\")\n",
        "plt.ylabel('Loss')\n",
        "plt.legend()\n",
        "plt.show()"
      ]
    }
  ],
  "metadata": {
    "colab": {
      "provenance": [],
      "authorship_tag": "ABX9TyMG2hXilS/5I2QiXh/XZvj7",
      "include_colab_link": true
    },
    "kernelspec": {
      "display_name": "Python 3",
      "name": "python3"
    },
    "language_info": {
      "name": "python"
    }
  },
  "nbformat": 4,
  "nbformat_minor": 0
}